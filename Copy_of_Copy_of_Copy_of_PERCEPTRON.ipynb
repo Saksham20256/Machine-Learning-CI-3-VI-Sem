{
  "nbformat": 4,
  "nbformat_minor": 0,
  "metadata": {
    "kernelspec": {
      "display_name": "Python 3",
      "language": "python",
      "name": "python3"
    },
    "language_info": {
      "codemirror_mode": {
        "name": "ipython",
        "version": 3
      },
      "file_extension": ".py",
      "mimetype": "text/x-python",
      "name": "python",
      "nbconvert_exporter": "python",
      "pygments_lexer": "ipython3",
      "version": "3.7.3"
    },
    "colab": {
      "provenance": [],
      "include_colab_link": true
    }
  },
  "cells": [
    {
      "cell_type": "markdown",
      "metadata": {
        "id": "view-in-github",
        "colab_type": "text"
      },
      "source": [
        "<a href=\"https://colab.research.google.com/github/Saksham20256/Machine-Learning-CI-3-VI-Sem/blob/main/Copy_of_Copy_of_Copy_of_PERCEPTRON.ipynb\" target=\"_parent\"><img src=\"https://colab.research.google.com/assets/colab-badge.svg\" alt=\"Open In Colab\"/></a>"
      ]
    },
    {
      "cell_type": "markdown",
      "metadata": {
        "id": "5IC9aOQM8iJC"
      },
      "source": [
        "# Perceptron Learning Algorithm Code"
      ]
    },
    {
      "cell_type": "code",
      "source": [
        "from google.colab import drive\n",
        "drive.mount('/content/drive')"
      ],
      "metadata": {
        "colab": {
          "base_uri": "https://localhost:8080/"
        },
        "id": "xh7M0_uYa5Ie",
        "outputId": "7c6d257f-96c6-49cc-a1e5-cd8aecfd94b9"
      },
      "execution_count": 1,
      "outputs": [
        {
          "output_type": "stream",
          "name": "stdout",
          "text": [
            "Mounted at /content/drive\n"
          ]
        }
      ]
    },
    {
      "cell_type": "code",
      "source": [],
      "metadata": {
        "id": "ib3aJqdEbPC2"
      },
      "execution_count": 1,
      "outputs": []
    },
    {
      "cell_type": "code",
      "metadata": {
        "id": "-ZB46BXQ8iJI"
      },
      "source": [
        "import numpy as np"
      ],
      "execution_count": 2,
      "outputs": []
    },
    {
      "cell_type": "markdown",
      "source": [
        "Let us first understand what np.zeros(2+1) do before implementing Perceptron model"
      ],
      "metadata": {
        "id": "B3RcDFDjKUVt"
      }
    },
    {
      "cell_type": "code",
      "metadata": {
        "id": "LyuHnNrR8iJR",
        "colab": {
          "base_uri": "https://localhost:8080/"
        },
        "outputId": "b5d9025d-1d92-45aa-9ebe-ede178464401"
      },
      "source": [
        "W = np.zeros(2+1)\n",
        "W"
      ],
      "execution_count": 3,
      "outputs": [
        {
          "output_type": "execute_result",
          "data": {
            "text/plain": [
              "array([0., 0., 0.])"
            ]
          },
          "metadata": {},
          "execution_count": 3
        }
      ]
    },
    {
      "cell_type": "markdown",
      "source": [
        " np.insert(X, 0, 1) is used for horizontal stacking of 1's in 0th column\n"
      ],
      "metadata": {
        "id": "pwwJ1O1EKlBn"
      }
    },
    {
      "cell_type": "code",
      "metadata": {
        "id": "szwQn6Yd8iJZ",
        "colab": {
          "base_uri": "https://localhost:8080/"
        },
        "outputId": "f5579bae-1d2f-4d15-835f-daf8cb123405"
      },
      "source": [
        "X=[2,3]\n",
        "np.insert(X, 0, 1)\n"
      ],
      "execution_count": 4,
      "outputs": [
        {
          "output_type": "execute_result",
          "data": {
            "text/plain": [
              "array([1, 2, 3])"
            ]
          },
          "metadata": {},
          "execution_count": 4
        }
      ]
    },
    {
      "cell_type": "markdown",
      "metadata": {
        "id": "JtpJjmC9N8sp"
      },
      "source": [
        "Understand each code step by step"
      ]
    },
    {
      "cell_type": "code",
      "metadata": {
        "id": "cWdHQsjd8iJh"
      },
      "source": [
        "# initialization code\n",
        "def __init__(self, input_size, lr=5, epochs=2, bias=1):\n",
        "    self.W = np.zeros(input_size+bias)\n",
        "    self.epochs = epochs\n",
        "    self.lr = lr"
      ],
      "execution_count": 5,
      "outputs": []
    },
    {
      "cell_type": "code",
      "metadata": {
        "id": "fom45Tzh8iJn"
      },
      "source": [
        "# Activation function code which is a simple step function\n",
        "def activation_fn(self, x):\n",
        "        #return (x >= 0).astype(np.float32)\n",
        "        return 1 if x >= 0 else 0"
      ],
      "execution_count": 6,
      "outputs": []
    },
    {
      "cell_type": "code",
      "metadata": {
        "id": "Ix_xNDhi8iJs"
      },
      "source": [
        "# Calculating dot product of W and X (input vector) and applying step function\n",
        "def predict(self, x):\n",
        "        z = self.W.T.dot(x)\n",
        "        a = self.activation_fn(z)\n",
        "        return a"
      ],
      "execution_count": 7,
      "outputs": []
    },
    {
      "cell_type": "code",
      "metadata": {
        "id": "YvRpXqxd8iJz"
      },
      "source": [
        "# Perceptron Learning code running all the samples for given epochs or iterations\n",
        "def fit(self, X, OutputLabel):\n",
        "    no_of_smaples=4\n",
        "    for _ in range(self.epochs):\n",
        "        for i in range(no_of_samples):\n",
        "            y = self.predict(X[i])\n",
        "            e = OutputLabel[i] - y\n",
        "            self.W = self.W + self.lr * e * np.insert(X[i], 0, 1)"
      ],
      "execution_count": 8,
      "outputs": []
    },
    {
      "cell_type": "markdown",
      "metadata": {
        "id": "y6zeqwrM8iJ6"
      },
      "source": [
        "# The complete executable code of Perceptron model  in one step "
      ]
    },
    {
      "cell_type": "code",
      "metadata": {
        "id": "90IArkfa8iJ8"
      },
      "source": [
        " \n",
        "class Perceptron(object):\n",
        "    \"\"\"Implements a perceptron network\"\"\"\n",
        "    def __init__(self, input_size, lr=5, epochs=5):\n",
        "        self.W = np.zeros(input_size+1)\n",
        "        # add one for bias\n",
        "        self.epochs = epochs\n",
        "        self.lr = lr\n",
        "        self.loss_lst = []\n",
        "    \n",
        "    def activation_fn(self, x):\n",
        "        #return (x >= 0).astype(np.float32)\n",
        "        return 1 if x >= 0 else 0\n",
        " \n",
        "    def predict(self, x):\n",
        "        z = self.W.T.dot(x)\n",
        "        a = self.activation_fn(z)\n",
        "        return a\n",
        " \n",
        "    def fit(self, X, d):\n",
        "        for _ in range(self.epochs):\n",
        "            for i in range(d.shape[0]):\n",
        "                x = np.insert(X[i], 0, 1)\n",
        "                y = self.predict(x)\n",
        "                e = d[i] - y\n",
        "                self.W = self.W + self.lr * e * x\n",
        "            self.loss_lst.append(e)                  "
      ],
      "execution_count": 9,
      "outputs": []
    },
    {
      "cell_type": "markdown",
      "metadata": {
        "id": "WxkfR3Rr8iKC"
      },
      "source": [
        "# AND GATE EXAMPLE WITH NO OF SAMPLES/RECORDS AS 4 AND EPOCHS AS 2"
      ]
    },
    {
      "cell_type": "code",
      "metadata": {
        "id": "6FkER4a68iKE",
        "colab": {
          "base_uri": "https://localhost:8080/"
        },
        "outputId": "08795b4a-773b-459e-994a-48e35977e95b"
      },
      "source": [
        "if __name__ == '__main__':\n",
        "    X = np.array([\n",
        "        [0, 0],\n",
        "        [0, 1],\n",
        "        [1, 0],\n",
        "        [1, 1]\n",
        "    ])\n",
        "    d = np.array([0, 1, 1, 1])\n",
        " \n",
        "    perceptron = Perceptron(input_size=2)\n",
        "    perceptron.fit(X, d)\n",
        "    print(perceptron.W)"
      ],
      "execution_count": 10,
      "outputs": [
        {
          "output_type": "stream",
          "name": "stdout",
          "text": [
            "[-5.  5.  5.]\n"
          ]
        }
      ]
    },
    {
      "cell_type": "code",
      "metadata": {
        "colab": {
          "base_uri": "https://localhost:8080/",
          "height": 449
        },
        "id": "gckUX4MnQ3ho",
        "outputId": "5f4f5e52-9c23-446e-a627-b4d6b58f7796"
      },
      "source": [
        "import matplotlib.pyplot as plt\n",
        "x_axis = [int(x) for x in range(5)]\n",
        "y_axis = perceptron.loss_lst\n",
        "plt.plot(x_axis, y_axis)\n",
        "plt.xlabel(\"iteration\")\n",
        "plt.ylabel(\"loss\")\n",
        "plt.show()"
      ],
      "execution_count": 11,
      "outputs": [
        {
          "output_type": "display_data",
          "data": {
            "text/plain": [
              "<Figure size 640x480 with 1 Axes>"
            ],
            "image/png": "[encoded data removed]"
          },
          "metadata": {}
        }
      ]
    },
    {
      "cell_type": "markdown",
      "metadata": {
        "id": "Ks5fWOcq8iKN"
      },
      "source": [
        "# Using the OR gate data, we should get a weight vector of [-3, 2, 1]. This means that the bias is -3 and the weights are 2 and 1 for x_1 and x_2, respectively."
      ]
    },
    {
      "cell_type": "markdown",
      "metadata": {
        "id": "lWfEutm18iKP"
      },
      "source": [
        "# LETS TEST MANUALLY\n",
        "# let us test for x=[0, 1]"
      ]
    },
    {
      "cell_type": "code",
      "metadata": {
        "id": "O8Zw-a2-8iKR",
        "outputId": "5043cc04-3bfc-4ffa-af23-6f24fc7512a7",
        "colab": {
          "base_uri": "https://localhost:8080/"
        }
      },
      "source": [
        "x=[1, 0, 1]\n",
        "y= -3*1+2*0+1*1\n",
        "y"
      ],
      "execution_count": 12,
      "outputs": [
        {
          "output_type": "execute_result",
          "data": {
            "text/plain": [
              "-2"
            ]
          },
          "metadata": {},
          "execution_count": 12
        }
      ]
    },
    {
      "cell_type": "markdown",
      "metadata": {
        "id": "bb3JLCbk8iKW"
      },
      "source": [
        "# since it is a negative value on applying activation function we get zero which is correct"
      ]
    }
  ]
}